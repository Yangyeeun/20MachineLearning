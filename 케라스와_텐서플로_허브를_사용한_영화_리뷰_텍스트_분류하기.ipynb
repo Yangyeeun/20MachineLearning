{
  "nbformat": 4,
  "nbformat_minor": 0,
  "metadata": {
    "colab": {
      "name": "케라스와 텐서플로 허브를 사용한 영화 리뷰 텍스트 분류하기",
      "provenance": [],
      "private_outputs": true,
      "collapsed_sections": [],
      "authorship_tag": "ABX9TyNKnbpdIa1e2jcvDVFCOg8a",
      "include_colab_link": true
    },
    "kernelspec": {
      "name": "python3",
      "display_name": "Python 3"
    }
  },
  "cells": [
    {
      "cell_type": "markdown",
      "metadata": {
        "id": "view-in-github",
        "colab_type": "text"
      },
      "source": [
        "<a href=\"https://colab.research.google.com/github/Yangyeeun/20MachineLearning/blob/master/%EC%BC%80%EB%9D%BC%EC%8A%A4%EC%99%80_%ED%85%90%EC%84%9C%ED%94%8C%EB%A1%9C_%ED%97%88%EB%B8%8C%EB%A5%BC_%EC%82%AC%EC%9A%A9%ED%95%9C_%EC%98%81%ED%99%94_%EB%A6%AC%EB%B7%B0_%ED%85%8D%EC%8A%A4%ED%8A%B8_%EB%B6%84%EB%A5%98%ED%95%98%EA%B8%B0.ipynb\" target=\"_parent\"><img src=\"https://colab.research.google.com/assets/colab-badge.svg\" alt=\"Open In Colab\"/></a>"
      ]
    },
    {
      "cell_type": "markdown",
      "metadata": {
        "id": "BFiizvlOobm3",
        "colab_type": "text"
      },
      "source": [
        "# 케라스와 텐서플로 허브를 사용한 영화 리뷰 텍스트 분류하기\n",
        "\n",
        "이진분류 Binary Classification 예시로 \n",
        "이전까지 이미지분류였다면 영화리뷰 텍스트를 긍정,부정으로 분류해보자!\n",
        "\n",
        " IMDB 데이터셋:Internet Movie Database에서 수집한 50,000개의 영화 리뷰 텍스트 \n",
        " = 25,000개  훈련용+ 25,000개 리뷰 테스트용\n",
        "\n",
        "케라스: 텐서플로의 모델생성, 훈련을 위한 고수준의 파이썬 API\n",
        "\n",
        "텐서플로 허브: 전이 학습 라이브러리"
      ]
    },
    {
      "cell_type": "code",
      "metadata": {
        "id": "yA44_SU_uCLl",
        "colab_type": "code",
        "colab": {}
      },
      "source": [
        "import numpy as np\n",
        "\n",
        "import tensorflow as tf\n",
        "\n",
        "!pip install tensorflow-hub\n",
        "!pip install tfds-nightly\n",
        "import tensorflow_hub as hub\n",
        "import tensorflow_datasets as tfds\n",
        "\n",
        "print(\"버전: \", tf.__version__)\n",
        "print(\"즉시 실행 모드: \", tf.executing_eagerly())\n",
        "print(\"허브 버전: \", hub.__version__)\n",
        "print(\"GPU\", \"사용 가능\" if tf.config.experimental.list_physical_devices(\"GPU\") else \"NOT AVAILABLE\")"
      ],
      "execution_count": null,
      "outputs": []
    },
    {
      "cell_type": "markdown",
      "metadata": {
        "id": "heFOwbOFvL40",
        "colab_type": "text"
      },
      "source": [
        "## 1.IMDB 데이터셋 다운로드"
      ]
    },
    {
      "cell_type": "code",
      "metadata": {
        "colab_type": "code",
        "id": "zXXx5Oc3pOmN",
        "colab": {}
      },
      "source": [
        "# 훈련 세트= 6대 4로 나눕니다.\n",
        "# 전체 50000개 = 훈련 15,000개+ 검증 10,000개 + 테스트 25,000개 샘플\n",
        "train_data, validation_data, test_data = tfds.load(\n",
        "    name=\"imdb_reviews\", \n",
        "    split=('train[:60%]', 'train[60%:]', 'test'),\n",
        "    as_supervised=True)"
      ],
      "execution_count": null,
      "outputs": []
    },
    {
      "cell_type": "markdown",
      "metadata": {
        "id": "wtBQAIhCv7j7",
        "colab_type": "text"
      },
      "source": [
        "## 데이터 탐색\n",
        "데이터 형태: 전처리된 정수 배열-> 영화 리뷰에 나오는 단어 표현\n",
        "레이블: 0은 부정적인 리뷰, 1은 긍정적인 리뷰"
      ]
    },
    {
      "cell_type": "code",
      "metadata": {
        "id": "n4eRwxyKwWR5",
        "colab_type": "code",
        "colab": {}
      },
      "source": [
        "#처음 10개의 샘플,레이블을 출력\n",
        "train_examples_batch, train_labels_batch = next(iter(train_data.batch(10)))\n",
        "train_examples_batch\n",
        "\n",
        "train_labels_batch\n",
        " #<tf.Tensor: shape=(10,), dtype=int64, numpy=array([0, 0, 0, 1, 1, 1, 0, 0, 0, 0])>"
      ],
      "execution_count": null,
      "outputs": []
    },
    {
      "cell_type": "markdown",
      "metadata": {
        "id": "aMgz4QkCw0dr",
        "colab_type": "text"
      },
      "source": [
        "## 모델 구성\n",
        "\n",
        "신경망의 층을 구성할때 생각해야할 것\n",
        "\n",
        "*   어떻게 텍스트를 표현할 것인가?\n",
        "*   모델에서 얼마나 많은 층을 사용할 것인가?\n",
        "*   각 층에서 얼마나 많은 hidden unit을 사용할 것인가?\n",
        "\n",
        "*   어떻게 텍스트를 표현할 것인가?\n",
        " - 입력: 문장/ 출력: 0,1 레이블\n",
        " -> 텍스트 표현 = embedding 벡터로 변환\n",
        " -> 첫 번째 층으로 사전 훈련된 텍스트 임베딩을 사용 (사람이 쓰는 자연어를 기계가 이해할 수 있는 숫자형태인 vector로 바꾼 결과 )\n",
        " => 장점1:텍스트 전처리에 대해 신경X\n"
      ]
    },
    {
      "cell_type": "code",
      "metadata": {
        "id": "KKnNXjRcM1Be",
        "colab_type": "code",
        "colab": {}
      },
      "source": [
        "#텐서플로 허브 모델을 사용하는 케라스 층 생성, 샘플로 테스트\n",
        "embedding = \"https://tfhub.dev/google/tf2-preview/gnews-swivel-20dim/1\"\n",
        "hub_layer = hub.KerasLayer(embedding, input_shape=[], \n",
        "                           dtype=tf.string, trainable=True)\n",
        "hub_layer(train_examples_batch[:3])"
      ],
      "execution_count": null,
      "outputs": []
    }
  ]
}